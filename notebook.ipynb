{
 "cells": [
  {
   "cell_type": "markdown",
   "id": "0643c14b-7d80-4d66-8a97-54d134def61e",
   "metadata": {},
   "source": [
    "# Manufacturing Process Optimization Project using SQL\n",
    "\n",
    "In this project, we'll examine a hypothetical dataset using SQL window functions to identify problems in a manufacturing process. \n",
    "\n",
    "The approach this project focuses on is the application of Statistical Process Control (SPC) a proven methodology that leverages data to assure process efficiency.\n",
    "\n",
    "SPC enables us to define \"control limits\" that guide our process adjustments. For this project, we'll be using two control limits:\n",
    "\n",
    "**Upper Control Limit** (UCL): Ensures values (in this case we're using height for demonstration purposes) do not exceed what is considered normal variation, which is defined as:\n",
    "\n",
    "- $ucl = avg\\_height + 3 * \\frac{stddev\\_height}{\\sqrt{5}}$\n",
    "\n",
    "And, **Lower Control Limit** (LCL): Which likewise, ensures values do not fall below the standard of normal variation.\n",
    "\n",
    "- $lcl = avg\\_height - 3 * \\frac{stddev\\_height}{\\sqrt{5}}$\n",
    "\n",
    "\n",
    "Our SQL code will operate with these limits and allow us to visualize outliers in our dataset. This will ensure the manufacturing process remains efficient and produces products of consistent quality.\n",
    "\n",
    "## The data\n",
    "The data is available in the `manufacturing_parts` table which has the following fields:\n",
    "- `item_no`: the item number\n",
    "- `length`: the length of the item made\n",
    "- `width`: the width of the item made\n",
    "- `height`: the height of the item made\n",
    "- `operator`: the operating machine"
   ]
  },
  {
   "cell_type": "markdown",
   "id": "626897bd-8e7c-4f2f-a732-3183cc17cfc9",
   "metadata": {},
   "source": [
    "## Setting up the Environment\n",
    "\n",
    "We start by preparing our workspace, loading necessary libraries, and connecting to the database. It's the foundation for our SQL journey, so it's important to verify our database connection details are all set.\n"
   ]
  },
  {
   "cell_type": "code",
   "execution_count": 1,
   "id": "f68c54c7-8a0d-4eff-ba7f-079ab407c3b5",
   "metadata": {},
   "outputs": [],
   "source": [
    "import os\n",
    "from sqlalchemy import create_engine\n",
    "\n",
    "# Set your database URL without credentials as an environment variable or directly in code\n",
    "db_url = os.getenv('DATABASE_URL', 'postgresql://localhost:5432/postgres')\n",
    "\n",
    "# Access the username and password from environment variables\n",
    "db_username = os.getenv('DB_USERNAME')\n",
    "db_password = os.getenv('DB_PASSWORD')\n",
    "\n",
    "# Combine all parts to form the full database URL\n",
    "full_db_url = f'{db_url.replace(\"postgresql://\", f\"postgresql://{db_username}:{db_password}@\")}'\n",
    "\n",
    "# Create the database engine\n",
    "engine = create_engine(full_db_url)\n"
   ]
  },
  {
   "cell_type": "markdown",
   "id": "f5094184-6aa2-4074-be12-ec7db9fe4d06",
   "metadata": {},
   "source": [
    "## Loading the Data\n",
    "\n",
    "Next up, we bring our data into the picture by reading it into a pandas DataFrame from a CSV file. This is our first glance at the dataset, preparing us for the deeper dive ahead with SQL."
   ]
  },
  {
   "cell_type": "code",
   "execution_count": 2,
   "id": "409bbe7c-814c-4fec-98a0-b0245368b151",
   "metadata": {},
   "outputs": [],
   "source": [
    "import pandas as pd\n",
    "\n",
    "# Load our data into a DataFrame\n",
    "data_frame = pd.read_csv('manufacturing_parts.csv')\n"
   ]
  },
  {
   "cell_type": "markdown",
   "id": "8afce04d-1dea-453f-91d9-7682416d4066",
   "metadata": {},
   "source": [
    "## Creating the Database Table\n",
    "\n",
    "With our data in a DataFrame, we now transition it to a SQL table. This step bridges our work from pandas to SQL, setting the stage for some serious data analysis."
   ]
  },
  {
   "cell_type": "code",
   "execution_count": 3,
   "id": "278696ce-0e4f-4cb0-a05b-96852141a02d",
   "metadata": {},
   "outputs": [
    {
     "data": {
      "text/plain": [
       "500"
      ]
     },
     "execution_count": 3,
     "metadata": {},
     "output_type": "execute_result"
    }
   ],
   "source": [
    "# Assuming 'manufacturing_parts' is the table name you want to use\n",
    "data_frame.to_sql('manufacturing_parts', con=engine, if_exists='replace', index=False)\n"
   ]
  },
  {
   "cell_type": "markdown",
   "id": "ad871776-4e94-4fd8-86ee-fb7f04957c2f",
   "metadata": {},
   "source": [
    "## Executing the SQL Query\n",
    "\n",
    "Here's where the magic happens. Our SQL query calculates control limits to spot any outliers in our manufacturing data. It's a key step in using data to pinpoint where our process might be veering off track.\n"
   ]
  },
  {
   "cell_type": "code",
   "execution_count": 4,
   "id": "1eed483a-aef7-4740-b49f-061c387095b0",
   "metadata": {},
   "outputs": [],
   "source": [
    "from sqlalchemy import text\n",
    "\n",
    "# Your SQL query\n",
    "query = text(\"\"\"\n",
    "SELECT\n",
    "    b.*,\n",
    "    CASE\n",
    "        WHEN b.height NOT BETWEEN b.lcl AND b.ucl THEN TRUE ELSE FALSE END as alert\n",
    "FROM (\n",
    "    SELECT\n",
    "        a.*,\n",
    "        a.avg_height + 3*a.stddev_height/SQRT(5) AS ucl,\n",
    "        a.avg_height - 3*a.stddev_height/SQRT(5) AS lcl\n",
    "    FROM (\n",
    "        SELECT\n",
    "            operator,\n",
    "            ROW_NUMBER() OVER w,\n",
    "            height,\n",
    "            AVG(height) OVER w AS avg_height,\n",
    "            STDDEV(height) OVER w AS stddev_height\n",
    "        FROM manufacturing_parts\n",
    "        WINDOW w AS (\n",
    "            PARTITION BY operator ORDER BY item_no\n",
    "            ROWS BETWEEN 4 PRECEDING AND CURRENT ROW\n",
    "        )\n",
    "    ) AS a\n",
    ") AS b\n",
    "\"\"\")\n",
    "\n",
    "# Execute the SQL query\n",
    "with engine.connect() as connection:\n",
    "    result = connection.execute(query).fetchall()\n"
   ]
  },
  {
   "cell_type": "markdown",
   "id": "538897ba-6731-4980-b2e7-456bca629513",
   "metadata": {},
   "source": [
    "## Analyzing the Results\n",
    "\n",
    "After running our query, we dissect the results to uncover insights. Identifying outliers is more than just numbers; it's about ensuring quality and consistency in what we produce.\n"
   ]
  },
  {
   "cell_type": "code",
   "execution_count": 5,
   "id": "b10ba78e-3b69-4bd4-91ba-15b994cd3b4a",
   "metadata": {},
   "outputs": [
    {
     "name": "stdout",
     "output_type": "stream",
     "text": [
      "    Operator  Item_No  Height  Avg_Height  Stddev_Height        UCL  \\\n",
      "16      Op-1       17   19.33      20.092       0.456366  20.704279   \n",
      "20      Op-1       21   19.94      19.312       0.417457  19.872077   \n",
      "22      Op-1       23   22.31      20.042       1.342747  21.843484   \n",
      "38     Op-10       13   18.58      20.482       1.231105  22.133701   \n",
      "43     Op-10       18   21.86      20.022       1.161215  21.579933   \n",
      "55     Op-10       30   18.64      20.374       1.248091  22.048489   \n",
      "63     Op-11        8   18.54      20.346       1.163284  21.906709   \n",
      "79     Op-12        8   20.67      19.380       0.849706  20.520000   \n",
      "96     Op-13        5   21.93      20.182       1.186221  21.773482   \n",
      "107    Op-13       16   21.60      20.250       0.970490  21.552048   \n",
      "109    Op-13       18   18.88      20.390       1.043144  21.789525   \n",
      "118    Op-14        6   18.80      20.490       1.202788  22.103710   \n",
      "126    Op-14       14   21.60      19.676       1.163714  21.237286   \n",
      "133    Op-14       21   21.78      20.236       1.045050  21.638082   \n",
      "143    Op-14       31   21.57      20.750       0.597160  21.551174   \n",
      "146    Op-14       34   19.99      20.858       0.614752  21.682776   \n",
      "154    Op-15        7   20.08      21.140       0.780673  22.187382   \n",
      "157    Op-15       10   21.91      20.388       0.990086  21.716340   \n",
      "172    Op-16        6   19.72      21.074       0.891588  22.270191   \n",
      "178    Op-16       12   19.22      20.568       0.939505  21.828478   \n",
      "186    Op-16       20   20.99      20.496       0.311014  20.913270   \n",
      "187    Op-16       21   21.67      20.734       0.608630  21.550562   \n",
      "195    Op-17        4   18.95      20.700       1.170926  22.270961   \n",
      "205    Op-17       14   18.66      20.288       1.125820  21.798446   \n",
      "210    Op-17       19   19.57      21.320       1.001274  22.663350   \n",
      "230    Op-18       16   18.51      20.662       1.308633  22.417715   \n",
      "250    Op-19        7   19.49      20.324       0.617762  21.152815   \n",
      "258    Op-19       15   18.90      20.700       1.158123  22.253786   \n",
      "271     Op-2        7   23.11      20.746       1.561451  22.840907   \n",
      "274     Op-2       10   18.05      21.096       1.873814  23.609986   \n",
      "280     Op-2       16   21.95      19.902       1.201154  21.513517   \n",
      "285     Op-2       21   21.39      19.906       0.948383  21.178389   \n",
      "296    Op-20        7   20.08      19.372       0.483808  20.021096   \n",
      "300    Op-20       11   21.38      20.102       0.745936  21.102778   \n",
      "309    Op-20       20   21.60      20.146       1.075119  21.588423   \n",
      "327     Op-3       17   20.33      21.092       0.456366  21.704279   \n",
      "331     Op-3       21   20.94      20.312       0.417457  20.872077   \n",
      "333     Op-3       23   23.31      21.042       1.342747  22.843484   \n",
      "344     Op-4        5   20.95      19.210       1.156741  20.761931   \n",
      "349     Op-4       10   20.39      18.906       0.948383  20.178389   \n",
      "354     Op-4       15   19.69      19.038       0.483808  19.687096   \n",
      "356     Op-4       17   21.51      19.596       1.200700  21.206908   \n",
      "365     Op-5        5   22.17      20.430       1.156741  21.981931   \n",
      "370     Op-5       10   21.61      20.126       0.948383  21.398389   \n",
      "375     Op-5       15   20.91      20.258       0.483808  20.907096   \n",
      "377     Op-5       17   22.73      20.816       1.200700  22.426908   \n",
      "386     Op-5       26   23.39      21.650       1.156741  23.201931   \n",
      "391     Op-5       31   22.83      21.346       0.948383  22.618389   \n",
      "404     Op-6       11   20.81      20.332       0.291153  20.722623   \n",
      "417     Op-7        6   21.19      19.750       0.997447  21.088215   \n",
      "431     Op-7       20   20.60      19.480       0.760953  20.500926   \n",
      "432     Op-7       21   21.47      19.824       1.184453  21.413111   \n",
      "438     Op-7       27   18.72      20.380       0.996168  21.716499   \n",
      "455     Op-8       11   19.12      20.254       0.781972  21.303125   \n",
      "459     Op-8       15   21.70      19.892       1.215882  21.523277   \n",
      "480     Op-9       16   18.78      19.774       0.698627  20.711307   \n",
      "487     Op-9       23   19.19      20.306       0.796386  21.374463   \n",
      "497     Op-9       33   20.91      19.266       0.952276  20.543613   \n",
      "\n",
      "           LCL  Alert  \n",
      "16   19.479721   True  \n",
      "20   18.751923   True  \n",
      "22   18.240516   True  \n",
      "38   18.830299   True  \n",
      "43   18.464067   True  \n",
      "55   18.699511   True  \n",
      "63   18.785291   True  \n",
      "79   18.240000   True  \n",
      "96   18.590518   True  \n",
      "107  18.947952   True  \n",
      "109  18.990475   True  \n",
      "118  18.876290   True  \n",
      "126  18.114714   True  \n",
      "133  18.833918   True  \n",
      "143  19.948826   True  \n",
      "146  20.033224   True  \n",
      "154  20.092618   True  \n",
      "157  19.059660   True  \n",
      "172  19.877809   True  \n",
      "178  19.307522   True  \n",
      "186  20.078730   True  \n",
      "187  19.917438   True  \n",
      "195  19.129039   True  \n",
      "205  18.777554   True  \n",
      "210  19.976650   True  \n",
      "230  18.906285   True  \n",
      "250  19.495185   True  \n",
      "258  19.146214   True  \n",
      "271  18.651093   True  \n",
      "274  18.582014   True  \n",
      "280  18.290483   True  \n",
      "285  18.633611   True  \n",
      "296  18.722904   True  \n",
      "300  19.101222   True  \n",
      "309  18.703577   True  \n",
      "327  20.479721   True  \n",
      "331  19.751923   True  \n",
      "333  19.240516   True  \n",
      "344  17.658069   True  \n",
      "349  17.633611   True  \n",
      "354  18.388904   True  \n",
      "356  17.985092   True  \n",
      "365  18.878069   True  \n",
      "370  18.853611   True  \n",
      "375  19.608904   True  \n",
      "377  19.205092   True  \n",
      "386  20.098069   True  \n",
      "391  20.073611   True  \n",
      "404  19.941377   True  \n",
      "417  18.411785   True  \n",
      "431  18.459074   True  \n",
      "432  18.234889   True  \n",
      "438  19.043501   True  \n",
      "455  19.204875   True  \n",
      "459  18.260723   True  \n",
      "480  18.836693   True  \n",
      "487  19.237537   True  \n",
      "497  17.988387   True  \n"
     ]
    }
   ],
   "source": [
    "column_names = ['Operator', 'Item_No', 'Height', 'Avg_Height', 'Stddev_Height', 'UCL', 'LCL', 'Alert']\n",
    "\n",
    "# Create the dataframe\n",
    "df = pd.DataFrame(result, columns=column_names)\n",
    "\n",
    "filtered_df = df[df['Alert'] == True]\n",
    "print(filtered_df)"
   ]
  },
  {
   "cell_type": "code",
   "execution_count": null,
   "id": "b8a7e518-ff34-4dcb-a11b-bb36a89f0fcf",
   "metadata": {},
   "outputs": [],
   "source": []
  }
 ],
 "metadata": {
  "colab": {
   "name": "Welcome to DataCamp Workspaces.ipynb",
   "provenance": []
  },
  "kernelspec": {
   "display_name": "Python 3 (ipykernel)",
   "language": "python",
   "name": "python3"
  },
  "language_info": {
   "codemirror_mode": {
    "name": "ipython",
    "version": 3
   },
   "file_extension": ".py",
   "mimetype": "text/x-python",
   "name": "python",
   "nbconvert_exporter": "python",
   "pygments_lexer": "ipython3",
   "version": "3.9.2"
  }
 },
 "nbformat": 4,
 "nbformat_minor": 5
}
